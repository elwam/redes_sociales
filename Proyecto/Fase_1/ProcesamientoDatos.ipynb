{
 "cells": [
  {
   "cell_type": "code",
   "execution_count": 3,
   "metadata": {},
   "outputs": [],
   "source": [
    "#Importando Libreras\n",
    "import pandas as pd\n",
    "import networkx as nx "
   ]
  },
  {
   "cell_type": "code",
   "execution_count": 4,
   "metadata": {},
   "outputs": [
    {
     "data": {
      "text/html": [
       "<div>\n",
       "<style scoped>\n",
       "    .dataframe tbody tr th:only-of-type {\n",
       "        vertical-align: middle;\n",
       "    }\n",
       "\n",
       "    .dataframe tbody tr th {\n",
       "        vertical-align: top;\n",
       "    }\n",
       "\n",
       "    .dataframe thead th {\n",
       "        text-align: right;\n",
       "    }\n",
       "</style>\n",
       "<table border=\"1\" class=\"dataframe\">\n",
       "  <thead>\n",
       "    <tr style=\"text-align: right;\">\n",
       "      <th></th>\n",
       "      <th>Id</th>\n",
       "      <th>Headquarters Location</th>\n",
       "      <th>Operating Status</th>\n",
       "      <th>Company Type</th>\n",
       "      <th>Number of Investments</th>\n",
       "      <th>Number of Lead Investments</th>\n",
       "      <th>Number of Diversity Investments</th>\n",
       "      <th>Number of Exits</th>\n",
       "      <th>Number of Lead Investors</th>\n",
       "      <th>Number of Investors</th>\n",
       "      <th>...</th>\n",
       "      <th>Total Funding Amount</th>\n",
       "      <th>Total Funding Amount Currency</th>\n",
       "      <th>Total Funding Amount Currency (in USD)</th>\n",
       "      <th>Number of Events</th>\n",
       "      <th>SEMrush - Monthly Visits</th>\n",
       "      <th>SEMrush - Average Visits (6 months)</th>\n",
       "      <th>SEMrush - Visit Duration</th>\n",
       "      <th>Aberdeen - IT Spend</th>\n",
       "      <th>Aberdeen - IT Spend Currency</th>\n",
       "      <th>Aberdeen - IT Spend Currency (in USD)</th>\n",
       "    </tr>\n",
       "  </thead>\n",
       "  <tbody>\n",
       "    <tr>\n",
       "      <th>0</th>\n",
       "      <td>Tencent</td>\n",
       "      <td>Shenzhen, Guangdong, China</td>\n",
       "      <td>Active</td>\n",
       "      <td>For Profit</td>\n",
       "      <td>693.0</td>\n",
       "      <td>375.0</td>\n",
       "      <td>15.0</td>\n",
       "      <td>125.0</td>\n",
       "      <td>1.0</td>\n",
       "      <td>4.0</td>\n",
       "      <td>...</td>\n",
       "      <td>1.257677e+10</td>\n",
       "      <td>USD</td>\n",
       "      <td>1.257677e+10</td>\n",
       "      <td>22.0</td>\n",
       "      <td>4,085,844</td>\n",
       "      <td>3,553,184</td>\n",
       "      <td>600.0</td>\n",
       "      <td>NaN</td>\n",
       "      <td>NaN</td>\n",
       "      <td>NaN</td>\n",
       "    </tr>\n",
       "    <tr>\n",
       "      <th>1</th>\n",
       "      <td>Warburg Pincus</td>\n",
       "      <td>New York, New York, United States</td>\n",
       "      <td>Active</td>\n",
       "      <td>NaN</td>\n",
       "      <td>433.0</td>\n",
       "      <td>286.0</td>\n",
       "      <td>22.0</td>\n",
       "      <td>131.0</td>\n",
       "      <td>NaN</td>\n",
       "      <td>NaN</td>\n",
       "      <td>...</td>\n",
       "      <td>3.802820e+07</td>\n",
       "      <td>USD</td>\n",
       "      <td>3.802820e+07</td>\n",
       "      <td>NaN</td>\n",
       "      <td>34.635</td>\n",
       "      <td>34,033.67</td>\n",
       "      <td>392.0</td>\n",
       "      <td>53801.0</td>\n",
       "      <td>USD</td>\n",
       "      <td>53801.0</td>\n",
       "    </tr>\n",
       "  </tbody>\n",
       "</table>\n",
       "<p>2 rows × 33 columns</p>\n",
       "</div>"
      ],
      "text/plain": [
       "               Id              Headquarters Location Operating Status  \\\n",
       "0         Tencent         Shenzhen, Guangdong, China           Active   \n",
       "1  Warburg Pincus  New York, New York, United States           Active   \n",
       "\n",
       "  Company Type  Number of Investments  Number of Lead Investments  \\\n",
       "0   For Profit                  693.0                       375.0   \n",
       "1          NaN                  433.0                       286.0   \n",
       "\n",
       "   Number of Diversity Investments  Number of Exits  Number of Lead Investors  \\\n",
       "0                             15.0            125.0                       1.0   \n",
       "1                             22.0            131.0                       NaN   \n",
       "\n",
       "   Number of Investors  ... Total Funding Amount  \\\n",
       "0                  4.0  ...         1.257677e+10   \n",
       "1                  NaN  ...         3.802820e+07   \n",
       "\n",
       "  Total Funding Amount Currency  Total Funding Amount Currency (in USD)  \\\n",
       "0                           USD                            1.257677e+10   \n",
       "1                           USD                            3.802820e+07   \n",
       "\n",
       "  Number of Events SEMrush - Monthly Visits  \\\n",
       "0             22.0                4,085,844   \n",
       "1              NaN                   34.635   \n",
       "\n",
       "   SEMrush - Average Visits (6 months) SEMrush - Visit Duration  \\\n",
       "0                            3,553,184                    600.0   \n",
       "1                            34,033.67                    392.0   \n",
       "\n",
       "   Aberdeen - IT Spend Aberdeen - IT Spend Currency  \\\n",
       "0                  NaN                          NaN   \n",
       "1              53801.0                          USD   \n",
       "\n",
       "  Aberdeen - IT Spend Currency (in USD)  \n",
       "0                                   NaN  \n",
       "1                               53801.0  \n",
       "\n",
       "[2 rows x 33 columns]"
      ]
     },
     "execution_count": 4,
     "metadata": {},
     "output_type": "execute_result"
    }
   ],
   "source": [
    "# Leer información de Nodos \n",
    "nodos = pd.read_excel('Datos/Nodos.xlsx', sheet_name='Hoja1')\n",
    "nodos.head(2)"
   ]
  },
  {
   "cell_type": "code",
   "execution_count": 5,
   "metadata": {},
   "outputs": [
    {
     "data": {
      "text/html": [
       "<div>\n",
       "<style scoped>\n",
       "    .dataframe tbody tr th:only-of-type {\n",
       "        vertical-align: middle;\n",
       "    }\n",
       "\n",
       "    .dataframe tbody tr th {\n",
       "        vertical-align: top;\n",
       "    }\n",
       "\n",
       "    .dataframe thead th {\n",
       "        text-align: right;\n",
       "    }\n",
       "</style>\n",
       "<table border=\"1\" class=\"dataframe\">\n",
       "  <thead>\n",
       "    <tr style=\"text-align: right;\">\n",
       "      <th></th>\n",
       "      <th>Source</th>\n",
       "      <th>Target</th>\n",
       "    </tr>\n",
       "  </thead>\n",
       "  <tbody>\n",
       "    <tr>\n",
       "      <th>0</th>\n",
       "      <td>01 Advisors</td>\n",
       "      <td>Electric</td>\n",
       "    </tr>\n",
       "    <tr>\n",
       "      <th>1</th>\n",
       "      <td>01 Advisors</td>\n",
       "      <td>Origin</td>\n",
       "    </tr>\n",
       "    <tr>\n",
       "      <th>2</th>\n",
       "      <td>17Capital LLP</td>\n",
       "      <td>NewSpring</td>\n",
       "    </tr>\n",
       "    <tr>\n",
       "      <th>3</th>\n",
       "      <td>1kx</td>\n",
       "      <td>Arweave</td>\n",
       "    </tr>\n",
       "    <tr>\n",
       "      <th>4</th>\n",
       "      <td>1kx</td>\n",
       "      <td>Rarible</td>\n",
       "    </tr>\n",
       "  </tbody>\n",
       "</table>\n",
       "</div>"
      ],
      "text/plain": [
       "          Source     Target\n",
       "0    01 Advisors   Electric\n",
       "1    01 Advisors     Origin\n",
       "2  17Capital LLP  NewSpring\n",
       "3            1kx    Arweave\n",
       "4            1kx    Rarible"
      ]
     },
     "execution_count": 5,
     "metadata": {},
     "output_type": "execute_result"
    }
   ],
   "source": [
    "# Lerr información de Arcos \n",
    "arcos =pd.read_excel('Datos/Arcos.xlsx', sheet_name='Arcos')\n",
    "arcos.head()\n"
   ]
  },
  {
   "cell_type": "code",
   "execution_count": 28,
   "metadata": {},
   "outputs": [
    {
     "name": "stdout",
     "output_type": "stream",
     "text": [
      "('01 Advisors', 'Electric')\n",
      "Tencent\n"
     ]
    }
   ],
   "source": [
    "lista_arcos = list(zip(arcos['Source'], arcos['Target']))\n",
    "lista_arcos[0]\n",
    "\n",
    "lista_nodos = nodos['Id'].to_list()\n",
    "print(lista_arcos[0])\n",
    "print(lista_nodos[0])\n",
    "\n",
    "\n"
   ]
  },
  {
   "cell_type": "code",
   "execution_count": 31,
   "metadata": {},
   "outputs": [
    {
     "name": "stdout",
     "output_type": "stream",
     "text": [
      "Nodos: 2218\n",
      "Arcos: 4187\n"
     ]
    }
   ],
   "source": [
    "H = nx.DiGraph()\n",
    "H.add_nodes_from(lista_nodos)\n",
    "H.add_edges_from(lista_arcos)\n",
    "print(f'Nodos: {H.number_of_nodes()}')\n",
    "print(f'Arcos: {H.number_of_edges()}')"
   ]
  }
 ],
 "metadata": {
  "kernelspec": {
   "display_name": "base",
   "language": "python",
   "name": "python3"
  },
  "language_info": {
   "codemirror_mode": {
    "name": "ipython",
    "version": 3
   },
   "file_extension": ".py",
   "mimetype": "text/x-python",
   "name": "python",
   "nbconvert_exporter": "python",
   "pygments_lexer": "ipython3",
   "version": "3.11.5"
  }
 },
 "nbformat": 4,
 "nbformat_minor": 2
}
